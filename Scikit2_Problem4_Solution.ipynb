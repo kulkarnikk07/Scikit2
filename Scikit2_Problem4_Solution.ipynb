{
  "nbformat": 4,
  "nbformat_minor": 0,
  "metadata": {
    "colab": {
      "provenance": []
    },
    "kernelspec": {
      "name": "python3",
      "display_name": "Python 3"
    },
    "language_info": {
      "name": "python"
    }
  },
  "cells": [
    {
      "cell_type": "code",
      "execution_count": 6,
      "metadata": {
        "colab": {
          "base_uri": "https://localhost:8080/"
        },
        "id": "B_AnxO6MUlgu",
        "outputId": "4cd1c59e-c7f7-4580-cef5-20e21810532b"
      },
      "outputs": [
        {
          "output_type": "stream",
          "name": "stdout",
          "text": [
            "[Pipeline] ............... (step 1 of 3) Processing pca, total=   0.0s\n",
            "[Pipeline] ............... (step 2 of 3) Processing std, total=   0.0s\n",
            "[Pipeline] ..... (step 3 of 3) Processing decision_tree, total=   0.0s\n",
            "Accuracy:  0.9210526315789473\n"
          ]
        },
        {
          "output_type": "execute_result",
          "data": {
            "text/plain": [
              "{'memory': None,\n",
              " 'steps': [('pca', PCA(n_components=2)),\n",
              "  ('std', StandardScaler()),\n",
              "  ('decision_tree', DecisionTreeClassifier())],\n",
              " 'verbose': True,\n",
              " 'pca': PCA(n_components=2),\n",
              " 'std': StandardScaler(),\n",
              " 'decision_tree': DecisionTreeClassifier(),\n",
              " 'pca__copy': True,\n",
              " 'pca__iterated_power': 'auto',\n",
              " 'pca__n_components': 2,\n",
              " 'pca__n_oversamples': 10,\n",
              " 'pca__power_iteration_normalizer': 'auto',\n",
              " 'pca__random_state': None,\n",
              " 'pca__svd_solver': 'auto',\n",
              " 'pca__tol': 0.0,\n",
              " 'pca__whiten': False,\n",
              " 'std__copy': True,\n",
              " 'std__with_mean': True,\n",
              " 'std__with_std': True,\n",
              " 'decision_tree__ccp_alpha': 0.0,\n",
              " 'decision_tree__class_weight': None,\n",
              " 'decision_tree__criterion': 'gini',\n",
              " 'decision_tree__max_depth': None,\n",
              " 'decision_tree__max_features': None,\n",
              " 'decision_tree__max_leaf_nodes': None,\n",
              " 'decision_tree__min_impurity_decrease': 0.0,\n",
              " 'decision_tree__min_samples_leaf': 1,\n",
              " 'decision_tree__min_samples_split': 2,\n",
              " 'decision_tree__min_weight_fraction_leaf': 0.0,\n",
              " 'decision_tree__random_state': None,\n",
              " 'decision_tree__splitter': 'best'}"
            ]
          },
          "metadata": {},
          "execution_count": 6
        }
      ],
      "source": [
        "from sklearn import datasets\n",
        "from sklearn.model_selection import train_test_split\n",
        "from sklearn.preprocessing import StandardScaler\n",
        "from sklearn.decomposition import PCA\n",
        "from sklearn.tree import DecisionTreeClassifier\n",
        "# import some data within sklearn for iris classification\n",
        "iris = datasets.load_iris()\n",
        "X = iris.data\n",
        "y = iris.target\n",
        "\n",
        "# Splitting data into train and testing part\n",
        "# The 25 % of data is test size of the data\n",
        "X_train, X_test, y_train, y_test = train_test_split(X, y, test_size = 0.25, random_state =7)\n",
        "# importing pipes for making the Pipe flow\n",
        "from sklearn.pipeline import Pipeline\n",
        "# pipe flow is :\n",
        "# PCA(Dimension reduction to two) -> Scaling the data -> DecisionTreeClassification\n",
        "pipe = Pipeline([('pca', PCA(n_components = 2)), ('std', StandardScaler()), ('decision_tree', DecisionTreeClassifier())], verbose = True)\n",
        "\n",
        "# fitting the data in the pipe\n",
        "pipe.fit(X_train, y_train)\n",
        "\n",
        "# scoring data\n",
        "from sklearn.metrics import accuracy_score\n",
        "print('Accuracy: ',accuracy_score(y_test, pipe.predict(X_test)))\n",
        "\n",
        "# to see all the hyper parameters\n",
        "pipe.get_params()"
      ]
    }
  ]
}